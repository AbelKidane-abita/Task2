{
 "cells": [
  {
   "cell_type": "code",
   "execution_count": 2,
   "metadata": {},
   "outputs": [],
   "source": [
    "import os\n",
    "from ultralytics import YOLO\n",
    "import cv2\n",
    "import time"
   ]
  },
  {
   "cell_type": "code",
   "execution_count": 5,
   "metadata": {},
   "outputs": [
    {
     "name": "stdout",
     "output_type": "stream",
     "text": [
      "time: 0.0\n"
     ]
    }
   ],
   "source": [
    "import time\n",
    "start_time = time.time()\n",
    "elapsed_time = time.time() - start_time\n",
    "# fps = 1/(elapsed_time)\n",
    "print(f'time: {elapsed_time}')"
   ]
  },
  {
   "cell_type": "code",
   "execution_count": null,
   "metadata": {},
   "outputs": [],
   "source": [
    "video_path = \"Dataset/Video/video.mp4\"\n",
    "cap = cv2.VideoCapture(video_path)\n",
    "\n",
    "ret, frame = cap.read()\n",
    "\n",
    "# trained_model_path = os.path.join('.', 'runs', 'detect', 'train', 'weights', 'last.pt')\n",
    "trained_model_path1 = \"Dataset/TrainedModel/yolov8n_v8_head_detector__DEFAULT_LEARNING_RATE_0.01/weights/best.pt\" #lr=0.01\n",
    "trained_model_path2 = \"Dataset/TrainedModel/yolov8n_v8_head_detector2_LEARNING_RATE_0.1/weights/best.pt\" #lr=0.1\n",
    "trained_model_path3 = \"Dataset/TrainedModel/yolov8n_v8_head_detector/weights/best.pt\" #lr=0.001\n",
    "\n",
    "\n",
    "# Load a model\n",
    "model = YOLO(trained_model_path1)  # load a custom model\n",
    "\n",
    "threshold = 0.5\n",
    "while ret:\n",
    "\n",
    "    start_time = time.time()\n",
    "\n",
    "    results = model(frame)[0]\n",
    "\n",
    "    elapsed_time = time.time() - start_time\n",
    "    fps = 1/(elapsed_time)\n",
    "    print(f'time: {elapsed_time} FPS: {fps}')\n",
    "\n",
    "\n",
    "    for result in results.boxes.data.tolist():\n",
    "        x1, y1, x2, y2, score, class_id = result\n",
    "\n",
    "        if score > threshold:\n",
    "            cv2.rectangle(frame, (int(x1), int(y1)), (int(x2), int(y2)), (0, 255, 0), 4)\n",
    "            cv2.putText(frame, results.names[int(class_id)].upper(), (int(x1), int(y1 - 10)),\n",
    "                        cv2.FONT_HERSHEY_SIMPLEX, 1.3, (0, 255, 0), 3, cv2.LINE_AA)\n",
    "\n",
    "    cv2.namedWindow('Video', cv2.WINDOW_NORMAL) \n",
    "    cv2.imshow('Video', frame)\n",
    "    if cv2.waitKey(1) & 0xFF == ord('q'):\n",
    "        break\n",
    "    ret, frame = cap.read()\n",
    "    \n",
    "cap.release()\n",
    "cv2.destroyAllWindows()"
   ]
  },
  {
   "cell_type": "code",
   "execution_count": null,
   "metadata": {},
   "outputs": [],
   "source": []
  }
 ],
 "metadata": {
  "kernelspec": {
   "display_name": "env2",
   "language": "python",
   "name": "python3"
  },
  "language_info": {
   "codemirror_mode": {
    "name": "ipython",
    "version": 3
   },
   "file_extension": ".py",
   "mimetype": "text/x-python",
   "name": "python",
   "nbconvert_exporter": "python",
   "pygments_lexer": "ipython3",
   "version": "3.10.12"
  },
  "orig_nbformat": 4
 },
 "nbformat": 4,
 "nbformat_minor": 2
}
