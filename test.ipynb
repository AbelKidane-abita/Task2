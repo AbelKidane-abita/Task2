{
 "cells": [
  {
   "cell_type": "code",
   "execution_count": 5,
   "metadata": {},
   "outputs": [],
   "source": [
    "# from ultralytics import YOLO\n",
    " \n",
    "# # Load the model.\n",
    "# model = YOLO('yolov8n.pt')\n",
    " \n",
    "# # Training.\n",
    "# results = model.train(\n",
    "#    data='data_head.yaml',\n",
    "#    imgsz=480,\n",
    "#    epochs=10, \n",
    "#    batch=2,\n",
    "#    name='yolov8n_v8_head_detector',\n",
    "#    device= 'cpu'\n",
    "# )"
   ]
  },
  {
   "cell_type": "code",
   "execution_count": 2,
   "metadata": {},
   "outputs": [],
   "source": [
    "import clearml\n",
    "clearml.browser_login()"
   ]
  },
  {
   "cell_type": "code",
   "execution_count": 5,
   "metadata": {},
   "outputs": [],
   "source": [
    "##For python packages\n",
    "api { \n",
    "    # Abel Kidane's workspace\n",
    "    web_server: https://app.clear.ml\n",
    "    api_server: https://api.clear.ml\n",
    "    files_server: https://files.clear.ml\n",
    "    credentials {\n",
    "        \"access_key\" = \"TDL48EHB3V6CPLGY7PJF\"\n",
    "        \"secret_key\"  = \"D0wXBERSgWDSWVImN5nV4hzPWgaB3DqynSm2ceubJjTXjzYYJn\"\n",
    "    }\n",
    "}"
   ]
  },
  {
   "cell_type": "code",
   "execution_count": 2,
   "metadata": {},
   "outputs": [
    {
     "name": "stdout",
     "output_type": "stream",
     "text": [
      "env: CLEARML_WEB_HOST=https://app.clear.ml\n",
      "env: CLEARML_API_HOST=https://api.clear.ml\n",
      "env: CLEARML_FILES_HOST=https://files.clear.ml\n",
      "env: CLEARML_API_ACCESS_KEY=D2RT1ZJTXTNTDB871ZMS\n",
      "env: CLEARML_API_SECRET_KEY=2MSmqPhOIzR0RlG2hC9GAWHJoJEH84z6ZBOWpTDvFnEhzYrJ5m\n"
     ]
    }
   ],
   "source": [
    "##For jupyter notebook packages\n",
    "%env CLEARML_WEB_HOST=https://app.clear.ml\n",
    "%env CLEARML_API_HOST=https://api.clear.ml\n",
    "%env CLEARML_FILES_HOST=https://files.clear.ml\n",
    "%env CLEARML_API_ACCESS_KEY=D2RT1ZJTXTNTDB871ZMS\n",
    "%env CLEARML_API_SECRET_KEY=2MSmqPhOIzR0RlG2hC9GAWHJoJEH84z6ZBOWpTDvFnEhzYrJ5m"
   ]
  },
  {
   "cell_type": "code",
   "execution_count": 3,
   "metadata": {},
   "outputs": [
    {
     "name": "stderr",
     "output_type": "stream",
     "text": [
      "New https://pypi.org/project/ultralytics/8.0.136 available 😃 Update with 'pip install -U ultralytics'\n",
      "Ultralytics YOLOv8.0.135 🚀 Python-3.10.12 torch-2.0.1+cu117 CPU (11th Gen Intel Core(TM) i7-11370H 3.30GHz)\n",
      "\u001b[34m\u001b[1myolo/engine/trainer: \u001b[0mtask=detect, mode=train, model=yolov8n.pt, data=data_head.yaml, epochs=200, patience=50, batch=16, imgsz=480, save=True, save_period=-1, cache=False, device=cpu, workers=8, project=Dataset/TrainedModel, name=yolov8n_v8_head_detector, exist_ok=False, pretrained=True, optimizer=auto, verbose=True, seed=0, deterministic=True, single_cls=False, rect=False, cos_lr=False, close_mosaic=10, resume=False, amp=True, fraction=1.0, profile=False, overlap_mask=True, mask_ratio=4, dropout=0.0, val=True, split=val, save_json=False, save_hybrid=False, conf=None, iou=0.7, max_det=300, half=False, dnn=False, plots=True, source=None, show=False, save_txt=False, save_conf=False, save_crop=False, show_labels=True, show_conf=True, vid_stride=1, line_width=None, visualize=False, augment=False, agnostic_nms=False, classes=None, retina_masks=False, boxes=True, format=torchscript, keras=False, optimize=False, int8=False, dynamic=False, simplify=False, opset=None, workspace=4, nms=False, lr0=0.01, lrf=0.01, momentum=0.937, weight_decay=0.0005, warmup_epochs=3.0, warmup_momentum=0.8, warmup_bias_lr=0.1, box=7.5, cls=0.5, dfl=1.5, pose=12.0, kobj=1.0, label_smoothing=0.0, nbs=64, hsv_h=0.015, hsv_s=0.7, hsv_v=0.4, degrees=0.0, translate=0.1, scale=0.5, shear=0.0, perspective=0.0, flipud=0.0, fliplr=0.5, mosaic=1.0, mixup=0.0, copy_paste=0.0, cfg=None, tracker=botsort.yaml, save_dir=Dataset/TrainedModel/yolov8n_v8_head_detector12\n",
      "Overriding model.yaml nc=80 with nc=1\n",
      "\n",
      "                   from  n    params  module                                       arguments                     \n",
      "  0                  -1  1       464  ultralytics.nn.modules.conv.Conv             [3, 16, 3, 2]                 \n",
      "  1                  -1  1      4672  ultralytics.nn.modules.conv.Conv             [16, 32, 3, 2]                \n",
      "  2                  -1  1      7360  ultralytics.nn.modules.block.C2f             [32, 32, 1, True]             \n",
      "  3                  -1  1     18560  ultralytics.nn.modules.conv.Conv             [32, 64, 3, 2]                \n",
      "  4                  -1  2     49664  ultralytics.nn.modules.block.C2f             [64, 64, 2, True]             \n",
      "  5                  -1  1     73984  ultralytics.nn.modules.conv.Conv             [64, 128, 3, 2]               \n",
      "  6                  -1  2    197632  ultralytics.nn.modules.block.C2f             [128, 128, 2, True]           \n",
      "  7                  -1  1    295424  ultralytics.nn.modules.conv.Conv             [128, 256, 3, 2]              \n",
      "  8                  -1  1    460288  ultralytics.nn.modules.block.C2f             [256, 256, 1, True]           \n",
      "  9                  -1  1    164608  ultralytics.nn.modules.block.SPPF            [256, 256, 5]                 \n",
      " 10                  -1  1         0  torch.nn.modules.upsampling.Upsample         [None, 2, 'nearest']          \n",
      " 11             [-1, 6]  1         0  ultralytics.nn.modules.conv.Concat           [1]                           \n",
      " 12                  -1  1    148224  ultralytics.nn.modules.block.C2f             [384, 128, 1]                 \n",
      " 13                  -1  1         0  torch.nn.modules.upsampling.Upsample         [None, 2, 'nearest']          \n",
      " 14             [-1, 4]  1         0  ultralytics.nn.modules.conv.Concat           [1]                           \n",
      " 15                  -1  1     37248  ultralytics.nn.modules.block.C2f             [192, 64, 1]                  \n",
      " 16                  -1  1     36992  ultralytics.nn.modules.conv.Conv             [64, 64, 3, 2]                \n",
      " 17            [-1, 12]  1         0  ultralytics.nn.modules.conv.Concat           [1]                           \n",
      " 18                  -1  1    123648  ultralytics.nn.modules.block.C2f             [192, 128, 1]                 \n",
      " 19                  -1  1    147712  ultralytics.nn.modules.conv.Conv             [128, 128, 3, 2]              \n",
      " 20             [-1, 9]  1         0  ultralytics.nn.modules.conv.Concat           [1]                           \n",
      " 21                  -1  1    493056  ultralytics.nn.modules.block.C2f             [384, 256, 1]                 \n",
      " 22        [15, 18, 21]  1    751507  ultralytics.nn.modules.head.Detect           [1, [64, 128, 256]]           \n",
      "Model summary: 225 layers, 3011043 parameters, 3011027 gradients\n",
      "\n",
      "Transferred 319/355 items from pretrained weights\n"
     ]
    },
    {
     "name": "stdout",
     "output_type": "stream",
     "text": [
      "ClearML Task: created new task id=a87733358330458c969fb55e745ab6f3\n",
      "2023-07-17 12:50:23,073 - clearml.Task - INFO - Storing jupyter notebook directly as code\n",
      "WARNING:tensorflow:Please fix your imports. Module tensorflow.python.training.tracking.util has been moved to tensorflow.python.checkpoint.checkpoint. The old module will be deleted in version 2.11.\n",
      "ClearML results page: https://app.clear.ml/projects/9ceb5457ecac497780be1e432ef1c66e/experiments/a87733358330458c969fb55e745ab6f3/output/log\n"
     ]
    },
    {
     "name": "stderr",
     "output_type": "stream",
     "text": [
      "ClearML Initialized a new task. If you want to run remotely, please add clearml-init and connect your arguments before initializing YOLO.\n",
      "\u001b[34m\u001b[1mTensorBoard: \u001b[0mStart with 'tensorboard --logdir Dataset/TrainedModel/yolov8n_v8_head_detector12', view at http://localhost:6006/\n",
      "\u001b[34m\u001b[1mtrain: \u001b[0mScanning /mnt/c/Users/abelk/OneDrive/Documents/BayanatAI_Internship/Day2Repo/Task_1/Dataset/train/labels.cache... 3486 images, 0 backgrounds, 0 corrupt: 100%|██████████| 3486/3486 [00:00<?, ?it/s]\n",
      "\u001b[34m\u001b[1mtrain: \u001b[0mWARNING ⚠️ /mnt/c/Users/abelk/OneDrive/Documents/BayanatAI_Internship/Day2Repo/Task_1/Dataset/train/images/img_1070_jpg.rf.18c5caa3bd43c32f1f2db89e0ecbabaa.jpg: 1 duplicate labels removed\n",
      "\u001b[34m\u001b[1mtrain: \u001b[0mWARNING ⚠️ /mnt/c/Users/abelk/OneDrive/Documents/BayanatAI_Internship/Day2Repo/Task_1/Dataset/train/images/img_1238_jpg.rf.0dd7dc513f7bc26c2f7746fd403b3a89.jpg: 1 duplicate labels removed\n",
      "\u001b[34m\u001b[1mtrain: \u001b[0mWARNING ⚠️ /mnt/c/Users/abelk/OneDrive/Documents/BayanatAI_Internship/Day2Repo/Task_1/Dataset/train/images/img_1261_jpg.rf.aee381179f2d1964b79662dcb2ff11b7.jpg: 1 duplicate labels removed\n",
      "\u001b[34m\u001b[1mtrain: \u001b[0mWARNING ⚠️ /mnt/c/Users/abelk/OneDrive/Documents/BayanatAI_Internship/Day2Repo/Task_1/Dataset/train/images/img_171_jpg.rf.5c7e395a97ccdb662fc0309823f8ebcf.jpg: 1 duplicate labels removed\n",
      "\u001b[34m\u001b[1mtrain: \u001b[0mWARNING ⚠️ /mnt/c/Users/abelk/OneDrive/Documents/BayanatAI_Internship/Day2Repo/Task_1/Dataset/train/images/img_190_jpg.rf.cc0bf797893eedda317b136530063ed6.jpg: 2 duplicate labels removed\n",
      "\u001b[34m\u001b[1mtrain: \u001b[0mWARNING ⚠️ /mnt/c/Users/abelk/OneDrive/Documents/BayanatAI_Internship/Day2Repo/Task_1/Dataset/train/images/img_312_jpg.rf.8632ba93e5a62fca6af89a8dbf944490.jpg: 1 duplicate labels removed\n",
      "\u001b[34m\u001b[1mtrain: \u001b[0mWARNING ⚠️ /mnt/c/Users/abelk/OneDrive/Documents/BayanatAI_Internship/Day2Repo/Task_1/Dataset/train/images/img_434_jpg.rf.07c84e51c51294120069c86173a187c1.jpg: 1 duplicate labels removed\n",
      "\u001b[34m\u001b[1mtrain: \u001b[0mWARNING ⚠️ /mnt/c/Users/abelk/OneDrive/Documents/BayanatAI_Internship/Day2Repo/Task_1/Dataset/train/images/img_434_jpg.rf.1111273d19c9a82dfa54a3e99964daba.jpg: 1 duplicate labels removed\n",
      "\u001b[34m\u001b[1mtrain: \u001b[0mWARNING ⚠️ /mnt/c/Users/abelk/OneDrive/Documents/BayanatAI_Internship/Day2Repo/Task_1/Dataset/train/images/img_434_jpg.rf.3e1553c790ec406cb57b1d6b4420b055.jpg: 1 duplicate labels removed\n",
      "\u001b[34m\u001b[1mtrain: \u001b[0mWARNING ⚠️ /mnt/c/Users/abelk/OneDrive/Documents/BayanatAI_Internship/Day2Repo/Task_1/Dataset/train/images/img_434_jpg.rf.43ab79493e44faea6829096910caa277.jpg: 1 duplicate labels removed\n",
      "\u001b[34m\u001b[1mtrain: \u001b[0mWARNING ⚠️ /mnt/c/Users/abelk/OneDrive/Documents/BayanatAI_Internship/Day2Repo/Task_1/Dataset/train/images/img_434_jpg.rf.9145b09134e4d8bf720210f34f9cd29f.jpg: 1 duplicate labels removed\n",
      "\u001b[34m\u001b[1mtrain: \u001b[0mWARNING ⚠️ /mnt/c/Users/abelk/OneDrive/Documents/BayanatAI_Internship/Day2Repo/Task_1/Dataset/train/images/img_434_jpg.rf.9841e327fc8cfe1cdbf5a9b8452ffc9f.jpg: 1 duplicate labels removed\n",
      "\u001b[34m\u001b[1mtrain: \u001b[0mWARNING ⚠️ /mnt/c/Users/abelk/OneDrive/Documents/BayanatAI_Internship/Day2Repo/Task_1/Dataset/train/images/img_435_jpg.rf.1d8234d8a2fddc9e217623835ba354f4.jpg: 2 duplicate labels removed\n",
      "\u001b[34m\u001b[1mtrain: \u001b[0mWARNING ⚠️ /mnt/c/Users/abelk/OneDrive/Documents/BayanatAI_Internship/Day2Repo/Task_1/Dataset/train/images/img_469_jpg.rf.3c0be6e0a3b0f9f24a8e6732bc0771e3.jpg: 1 duplicate labels removed\n",
      "\u001b[34m\u001b[1mtrain: \u001b[0mWARNING ⚠️ /mnt/c/Users/abelk/OneDrive/Documents/BayanatAI_Internship/Day2Repo/Task_1/Dataset/train/images/img_469_jpg.rf.40780b768632f2375f738d7597011c83.jpg: 1 duplicate labels removed\n",
      "\u001b[34m\u001b[1mtrain: \u001b[0mWARNING ⚠️ /mnt/c/Users/abelk/OneDrive/Documents/BayanatAI_Internship/Day2Repo/Task_1/Dataset/train/images/img_469_jpg.rf.ba27db31db159e4ec93ec34c932ed727.jpg: 1 duplicate labels removed\n",
      "\u001b[34m\u001b[1mtrain: \u001b[0mWARNING ⚠️ /mnt/c/Users/abelk/OneDrive/Documents/BayanatAI_Internship/Day2Repo/Task_1/Dataset/train/images/img_472_jpg.rf.2adc4b3a60b59eedc3775cb95ddc7d92.jpg: 3 duplicate labels removed\n",
      "\u001b[34m\u001b[1mtrain: \u001b[0mWARNING ⚠️ /mnt/c/Users/abelk/OneDrive/Documents/BayanatAI_Internship/Day2Repo/Task_1/Dataset/train/images/img_472_jpg.rf.46a9cbcc4ca349778f3eeccc5a0c1ce6.jpg: 3 duplicate labels removed\n",
      "\u001b[34m\u001b[1mtrain: \u001b[0mWARNING ⚠️ /mnt/c/Users/abelk/OneDrive/Documents/BayanatAI_Internship/Day2Repo/Task_1/Dataset/train/images/img_472_jpg.rf.743672eb327bf453f7e30c96b4ef612e.jpg: 3 duplicate labels removed\n",
      "\u001b[34m\u001b[1mtrain: \u001b[0mWARNING ⚠️ /mnt/c/Users/abelk/OneDrive/Documents/BayanatAI_Internship/Day2Repo/Task_1/Dataset/train/images/img_472_jpg.rf.86587668d7ac5191e8bedb3f5e1ed9d4.jpg: 3 duplicate labels removed\n",
      "\u001b[34m\u001b[1mtrain: \u001b[0mWARNING ⚠️ /mnt/c/Users/abelk/OneDrive/Documents/BayanatAI_Internship/Day2Repo/Task_1/Dataset/train/images/img_472_jpg.rf.91c14de8fdd1c450d0c1650dfcf0a908.jpg: 3 duplicate labels removed\n",
      "\u001b[34m\u001b[1mtrain: \u001b[0mWARNING ⚠️ /mnt/c/Users/abelk/OneDrive/Documents/BayanatAI_Internship/Day2Repo/Task_1/Dataset/train/images/img_472_jpg.rf.9abc8e5cd59caa22acc1b27d9433857c.jpg: 3 duplicate labels removed\n",
      "\u001b[34m\u001b[1mtrain: \u001b[0mWARNING ⚠️ /mnt/c/Users/abelk/OneDrive/Documents/BayanatAI_Internship/Day2Repo/Task_1/Dataset/train/images/img_472_jpg.rf.aa62f244ee41e6898ad0986586f1e199.jpg: 3 duplicate labels removed\n",
      "\u001b[34m\u001b[1mtrain: \u001b[0mWARNING ⚠️ /mnt/c/Users/abelk/OneDrive/Documents/BayanatAI_Internship/Day2Repo/Task_1/Dataset/train/images/img_472_jpg.rf.b3bd62d6f4639292cbe398ac552a1944.jpg: 3 duplicate labels removed\n",
      "\u001b[34m\u001b[1mtrain: \u001b[0mWARNING ⚠️ /mnt/c/Users/abelk/OneDrive/Documents/BayanatAI_Internship/Day2Repo/Task_1/Dataset/train/images/img_472_jpg.rf.fb2c23a5ca0e88cb4f7f9e287d8cede1.jpg: 3 duplicate labels removed\n",
      "\u001b[34m\u001b[1mtrain: \u001b[0mWARNING ⚠️ /mnt/c/Users/abelk/OneDrive/Documents/BayanatAI_Internship/Day2Repo/Task_1/Dataset/train/images/img_476_jpg.rf.1e8ca0963996af71b501e8a83619d9c8.jpg: 1 duplicate labels removed\n",
      "\u001b[34m\u001b[1mtrain: \u001b[0mWARNING ⚠️ /mnt/c/Users/abelk/OneDrive/Documents/BayanatAI_Internship/Day2Repo/Task_1/Dataset/train/images/img_476_jpg.rf.45403ab2c5d86c10afb8803db52a0db4.jpg: 1 duplicate labels removed\n",
      "\u001b[34m\u001b[1mtrain: \u001b[0mWARNING ⚠️ /mnt/c/Users/abelk/OneDrive/Documents/BayanatAI_Internship/Day2Repo/Task_1/Dataset/train/images/img_476_jpg.rf.94590fde551b39211fa31904b8e95798.jpg: 1 duplicate labels removed\n",
      "\u001b[34m\u001b[1mtrain: \u001b[0mWARNING ⚠️ /mnt/c/Users/abelk/OneDrive/Documents/BayanatAI_Internship/Day2Repo/Task_1/Dataset/train/images/img_529_jpg.rf.1c7441b0148fdd3a5ab7383cc1a38dc7.jpg: 1 duplicate labels removed\n",
      "\u001b[34m\u001b[1mtrain: \u001b[0mWARNING ⚠️ /mnt/c/Users/abelk/OneDrive/Documents/BayanatAI_Internship/Day2Repo/Task_1/Dataset/train/images/img_529_jpg.rf.db14132cf0be48bd908a108c51ba238e.jpg: 1 duplicate labels removed\n",
      "\u001b[34m\u001b[1mtrain: \u001b[0mWARNING ⚠️ /mnt/c/Users/abelk/OneDrive/Documents/BayanatAI_Internship/Day2Repo/Task_1/Dataset/train/images/img_529_jpg.rf.f630701b221dbcbecd3a1e3eefbd40c2.jpg: 4 duplicate labels removed\n",
      "\u001b[34m\u001b[1mval: \u001b[0mScanning /mnt/c/Users/abelk/OneDrive/Documents/BayanatAI_Internship/Day2Repo/Task_1/Dataset/valid/labels.cache... 304 images, 0 backgrounds, 0 corrupt: 100%|██████████| 304/304 [00:00<?, ?it/s]\n",
      "Plotting labels to Dataset/TrainedModel/yolov8n_v8_head_detector12/labels.jpg... \n",
      "\u001b[34m\u001b[1moptimizer:\u001b[0m SGD(lr=0.01, momentum=0.9) with parameter groups 57 weight(decay=0.0), 64 weight(decay=0.0005), 63 bias(decay=0.0)\n",
      "Image sizes 480 train, 480 val\n",
      "Using 0 dataloader workers\n",
      "Logging results to \u001b[1mDataset/TrainedModel/yolov8n_v8_head_detector12\u001b[0m\n",
      "Starting training for 200 epochs...\n",
      "\n",
      "      Epoch    GPU_mem   box_loss   cls_loss   dfl_loss  Instances       Size\n",
      "      1/200         0G      3.205       2.31      1.564       3613        480: 100%|██████████| 218/218 [13:06<00:00,  3.61s/it]\n",
      "                 Class     Images  Instances      Box(P          R      mAP50  mAP50-95):  10%|█         | 1/10 [00:06<01:00,  6.69s/it]"
     ]
    },
    {
     "ename": "",
     "evalue": "",
     "output_type": "error",
     "traceback": [
      "\u001b[1;31mCannot execute code, session has been disposed. Please try restarting the Kernel."
     ]
    }
   ],
   "source": [
    "#Training\n",
    "from ultralytics import YOLO\n",
    " \n",
    "# Load the model.\n",
    "model = YOLO('yolov8n.pt')\n",
    " \n",
    "# Training.\n",
    "results = model.train(\n",
    "   data='data_head.yaml',\n",
    "   project='Dataset/TrainedModel',\n",
    "   imgsz=480,\n",
    "   epochs=200,\n",
    "   batch=16,\n",
    "   name='yolov8n_v8_head_detector',\n",
    "   device= 'cpu'\n",
    ")"
   ]
  },
  {
   "cell_type": "code",
   "execution_count": null,
   "metadata": {},
   "outputs": [],
   "source": []
  },
  {
   "cell_type": "code",
   "execution_count": null,
   "metadata": {},
   "outputs": [],
   "source": [
    "# Validation\n",
    "from ultralytics import YOLO\n",
    "\n",
    "# Load a model\n",
    "model = YOLO('yolov8n.pt')  # load an official model\n",
    "model = YOLO('Dataset/TrainedModel/yolov8n_v8_head_detector2/weights/best.pt')  # load a custom model\n",
    "\n",
    "# Validate the model\n",
    "metrics = model.val()  # no arguments needed, dataset and settings remembered\n",
    "metrics.box.map    # map50-95\n",
    "metrics.box.map50  # map50\n",
    "metrics.box.map75  # map75\n",
    "metrics.box.maps   # a list contains map50-95 of each category"
   ]
  },
  {
   "cell_type": "code",
   "execution_count": null,
   "metadata": {},
   "outputs": [],
   "source": []
  }
 ],
 "metadata": {
  "kernelspec": {
   "display_name": "env2",
   "language": "python",
   "name": "python3"
  },
  "language_info": {
   "codemirror_mode": {
    "name": "ipython",
    "version": 3
   },
   "file_extension": ".py",
   "mimetype": "text/x-python",
   "name": "python",
   "nbconvert_exporter": "python",
   "pygments_lexer": "ipython3",
   "version": "3.10.12"
  },
  "orig_nbformat": 4
 },
 "nbformat": 4,
 "nbformat_minor": 2
}
