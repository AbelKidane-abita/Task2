{
 "cells": [
  {
   "cell_type": "markdown",
   "metadata": {},
   "source": [
    "# Dunder Methods"
   ]
  },
  {
   "cell_type": "markdown",
   "metadata": {},
   "source": [
    "In Python, dunder methods are methods that allow instances of a class to interact with the built-in functions and operators of the language. Dunder here means “Double Under (Underscores)”. "
   ]
  },
  {
   "cell_type": "code",
   "execution_count": 63,
   "metadata": {},
   "outputs": [
    {
     "data": {
      "text/plain": [
       "\"\\nSummary of the dunder methods in python\\n__init__ :is basically a constructor\\n__repr__ :represent what would be printed when object is being printed\\n__name__ :stores the name of the class\\n__del__ :deconstructor/destroys the object\\n__add__ :definition of what the '+' operation does when the object is either added or concatenated with it\\n__len__ :return the length of the object\\n__call__ :executed when ever the object is called \\n__get__ :defines a getter\\n__set__ :defines a setter\\n\\n__getitem__ :access when indexing using square brackets\\n__setitem__ :set using indexing using square brackets\\n\\n\""
      ]
     },
     "execution_count": 63,
     "metadata": {},
     "output_type": "execute_result"
    }
   ],
   "source": [
    "\n",
    "\"\"\"\n",
    "Summary of the dunder methods in python\n",
    "__init__ :is basically a constructor\n",
    "__repr__ :represent what would be printed when object is being printed\n",
    "__name__ :stores the name of the class\n",
    "__del__ :deconstructor/destroys the object\n",
    "__add__ :definition of what the '+' operation does when the object is either added or concatenated with it\n",
    "__len__ :return the length of the object\n",
    "__call__ :executed when ever the object is called \n",
    "__get__ :defines a getter\n",
    "__set__ :defines a setter\n",
    "\n",
    "__getitem__ :access when indexing using square brackets\n",
    "__setitem__ :set using indexing using square brackets\n",
    "\n",
    "\"\"\"\n"
   ]
  },
  {
   "cell_type": "code",
   "execution_count": 35,
   "metadata": {},
   "outputs": [
    {
     "name": "stdout",
     "output_type": "stream",
     "text": [
      "Object: Hello\n",
      "Hello Hello\n",
      "Function call\n"
     ]
    }
   ],
   "source": [
    "# declare our own string class\n",
    "class String:\n",
    "      \n",
    "    # magic method to initiate object //\n",
    "    def __init__(self, string):\n",
    "        self.string = string\n",
    "\n",
    "    # print our string object\n",
    "    def __repr__(self):\n",
    "        return 'Object: {}'.format(self.string)\n",
    "\n",
    "    def __add__(self, other):\n",
    "        return self.string + other\n",
    "    \n",
    "    def __call__(self):\n",
    "        print(\"Function call\")\n",
    "# Driver Code\n",
    "if __name__ == '__main__':\n",
    "      \n",
    "    # object creation\n",
    "    string1 = String('Hello')\n",
    "  \n",
    "    # print object location\n",
    "    print(string1)\n",
    "    print(string1 + \" Hello\")\n",
    "    string1()"
   ]
  },
  {
   "cell_type": "code",
   "execution_count": 56,
   "metadata": {},
   "outputs": [
    {
     "name": "stdout",
     "output_type": "stream",
     "text": [
      "GeeksforGeeks\n"
     ]
    }
   ],
   "source": [
    "\n",
    "class Descriptor(object):\n",
    "  \n",
    "    def __init__(self, name =''):\n",
    "        self.name = name\n",
    "  \n",
    "    def __get__(self, obj, objtype):\n",
    "        return \"{}for{}\".format(self.name, self.name)\n",
    "  \n",
    "    def __set__(self, obj, name):\n",
    "        if isinstance(name, str):\n",
    "            self.name = name\n",
    "        else:\n",
    "            raise TypeError(\"Name should be string\")\n",
    "          \n",
    "class GFG(object):\n",
    "    name = Descriptor()\n",
    "    \n",
    "g = GFG()\n",
    "g.name = \"Geeks\"\n",
    "print(g.name)"
   ]
  },
  {
   "cell_type": "code",
   "execution_count": null,
   "metadata": {},
   "outputs": [],
   "source": []
  },
  {
   "cell_type": "code",
   "execution_count": 39,
   "metadata": {},
   "outputs": [
    {
     "name": "stdout",
     "output_type": "stream",
     "text": [
      "age  7\n"
     ]
    }
   ],
   "source": [
    "print(\"age \",7)"
   ]
  },
  {
   "cell_type": "code",
   "execution_count": 52,
   "metadata": {},
   "outputs": [
    {
     "name": "stdout",
     "output_type": "stream",
     "text": [
      "6new\n"
     ]
    }
   ],
   "source": [
    "class a:\n",
    "    def __init__(self, num):\n",
    "        self.num = num\n",
    "    def __repr__(self):\n",
    "        return 'Object: {}'.format(self.num)\n",
    "    def __add__(self, other):\n",
    "        return self.num + other\n",
    "\n",
    "b = a(\"6\")\n",
    "print(b+ \"new\")"
   ]
  },
  {
   "cell_type": "code",
   "execution_count": 48,
   "metadata": {},
   "outputs": [
    {
     "data": {
      "text/plain": [
       "'Object: 6new'"
      ]
     },
     "execution_count": 48,
     "metadata": {},
     "output_type": "execute_result"
    }
   ],
   "source": [
    "\"Object: 6\" + \"new\""
   ]
  },
  {
   "cell_type": "code",
   "execution_count": 61,
   "metadata": {},
   "outputs": [
    {
     "name": "stdout",
     "output_type": "stream",
     "text": [
      "3\n"
     ]
    }
   ],
   "source": [
    "class MyList:\n",
    "    def __init__(self):\n",
    "        self.items = []\n",
    "\n",
    "    def __getitem__(self, index):\n",
    "        return self.items[index]\n",
    "\n",
    "    def __setitem__(self, index, value):\n",
    "        self.items[index] = value\n",
    "\n",
    "my_list = MyList()\n",
    "my_list.items = [1, 2, 3, 4, 5]\n",
    "\n",
    "print(my_list[2])  # Output: 3\n"
   ]
  },
  {
   "cell_type": "code",
   "execution_count": 64,
   "metadata": {},
   "outputs": [
    {
     "name": "stdout",
     "output_type": "stream",
     "text": [
      "[1, 2, 10, 4, 5]\n"
     ]
    }
   ],
   "source": [
    "class MyList:\n",
    "    def __init__(self):\n",
    "        self.items = []\n",
    "\n",
    "    def __getitem__(self, index):\n",
    "        return self.items[index]\n",
    "\n",
    "    def __setitem__(self, index, value):\n",
    "        self.items[index] = value\n",
    "\n",
    "my_list = MyList()\n",
    "my_list.items = [1, 2, 3, 4, 5]\n",
    "\n",
    "my_list[2] = 10\n",
    "print(my_list.items)  # Output: [1, 2, 10, 4, 5]"
   ]
  },
  {
   "cell_type": "code",
   "execution_count": null,
   "metadata": {},
   "outputs": [],
   "source": []
  }
 ],
 "metadata": {
  "kernelspec": {
   "display_name": "env2",
   "language": "python",
   "name": "python3"
  },
  "language_info": {
   "codemirror_mode": {
    "name": "ipython",
    "version": 3
   },
   "file_extension": ".py",
   "mimetype": "text/x-python",
   "name": "python",
   "nbconvert_exporter": "python",
   "pygments_lexer": "ipython3",
   "version": "3.10.12"
  },
  "orig_nbformat": 4
 },
 "nbformat": 4,
 "nbformat_minor": 2
}
